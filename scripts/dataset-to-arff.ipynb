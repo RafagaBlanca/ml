{
 "cells": [
  {
   "cell_type": "code",
   "execution_count": 1,
   "metadata": {},
   "outputs": [
    {
     "name": "stdout",
     "output_type": "stream",
     "text": [
      "Archivo adult.arff creado exitosamente.\n"
     ]
    }
   ],
   "source": [
    "from ucimlrepo import fetch_ucirepo \n",
    "import pandas as pd\n",
    "\n",
    "# Obtener el conjunto de datos\n",
    "adult = fetch_ucirepo(id=2) \n",
    "  \n",
    "# Datos como DataFrames de pandas\n",
    "X = adult.data.features \n",
    "y = adult.data.targets \n",
    "\n",
    "# Combinar características y objetivo\n",
    "df = pd.concat([X, y], axis=1)\n",
    "\n",
    "# Función para convertir DataFrame a formato ARFF\n",
    "def df_to_arff(df, filename, relation_name):\n",
    "    with open(filename, 'w') as f:\n",
    "        # Escribir la relación\n",
    "        f.write(f'@relation {relation_name}\\n\\n')\n",
    "        \n",
    "        # Escribir los atributos\n",
    "        for column in df.columns:\n",
    "            if df[column].dtype in ['int64', 'float64']:\n",
    "                f.write(f'@attribute {column} numeric\\n')\n",
    "            else:\n",
    "                unique_values = df[column].unique()\n",
    "                unique_values = [str(value).replace(\"'\", \"\") for value in unique_values if not pd.isna(value)]\n",
    "                f.write(f'@attribute {column} {{{\",\".join(unique_values)}}}\\n')\n",
    "        \n",
    "        # Escribir los datos\n",
    "        f.write('\\n@data\\n')\n",
    "        for _, row in df.iterrows():\n",
    "            row_data = [str(value).replace(\"'\", \"\") if not pd.isna(value) else '?' for value in row]\n",
    "            f.write(','.join(row_data) + '\\n')\n",
    "\n",
    "# Convertir a ARFF\n",
    "df_to_arff(df, 'adult.arff', 'adult')\n",
    "\n",
    "print(\"Archivo adult.arff creado exitosamente.\")"
   ]
  },
  {
   "cell_type": "code",
   "execution_count": null,
   "metadata": {},
   "outputs": [],
   "source": []
  }
 ],
 "metadata": {
  "kernelspec": {
   "display_name": "ml",
   "language": "python",
   "name": "python3"
  },
  "language_info": {
   "codemirror_mode": {
    "name": "ipython",
    "version": 3
   },
   "file_extension": ".py",
   "mimetype": "text/x-python",
   "name": "python",
   "nbconvert_exporter": "python",
   "pygments_lexer": "ipython3",
   "version": "3.12.4"
  }
 },
 "nbformat": 4,
 "nbformat_minor": 2
}
