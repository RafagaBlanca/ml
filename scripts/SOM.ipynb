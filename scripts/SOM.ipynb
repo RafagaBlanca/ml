{
 "cells": [
  {
   "cell_type": "markdown",
   "metadata": {},
   "source": [
    "\n",
    "\n",
    "Aplicación del modelo SOM: Aplique el modelo SOM al otro conjunto de datos seleccionado. Explore el concepto de mapas autoorganizados y cómo se pueden utilizar para el análisis de datos."
   ]
  }
 ],
 "metadata": {
  "kernelspec": {
   "display_name": "ml",
   "language": "python",
   "name": "python3"
  },
  "language_info": {
   "name": "python",
   "version": "3.12.4"
  }
 },
 "nbformat": 4,
 "nbformat_minor": 2
}
