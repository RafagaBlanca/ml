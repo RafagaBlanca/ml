{
 "cells": [
  {
   "cell_type": "code",
   "execution_count": 1,
   "metadata": {},
   "outputs": [
    {
     "name": "stderr",
     "output_type": "stream",
     "text": [
      "DEBUG:weka.core.jvm:Adding bundled jars\n",
      "DEBUG:weka.core.jvm:Classpath=['/home/whiteburst/miniconda3/envs/ml/lib/python3.12/site-packages/weka/lib/arpack_combined.jar', '/home/whiteburst/miniconda3/envs/ml/lib/python3.12/site-packages/weka/lib/core.jar', '/home/whiteburst/miniconda3/envs/ml/lib/python3.12/site-packages/weka/lib/mtj.jar', '/home/whiteburst/miniconda3/envs/ml/lib/python3.12/site-packages/weka/lib/weka.jar', '/home/whiteburst/miniconda3/envs/ml/lib/python3.12/site-packages/weka/lib/python-weka-wrapper.jar']\n",
      "DEBUG:weka.core.jvm:MaxHeapSize=default\n",
      "DEBUG:weka.core.jvm:Package support disabled\n",
      "Oct 02, 2024 12:54:16 AM com.github.fommil.netlib.ARPACK <clinit>\n",
      "WARNING: Failed to load implementation from: com.github.fommil.netlib.NativeSystemARPACK\n",
      "Oct 02, 2024 12:54:16 AM com.github.fommil.netlib.ARPACK <clinit>\n",
      "WARNING: Failed to load implementation from: com.github.fommil.netlib.NativeRefARPACK\n"
     ]
    },
    {
     "name": "stdout",
     "output_type": "stream",
     "text": [
      "Failed to instantiate weka.filters.supervised.instance.SMOTE: java.lang.ClassNotFoundException: weka.filters.supervised.instance.SMOTE\n",
      "Class 'weka.filters.supervised.instance.SMOTE' is available from package: SMOTE\n",
      "Also, you need to start up the JVM with package support:\n",
      "jvm.start(packages=True)\n"
     ]
    },
    {
     "ename": "AttributeError",
     "evalue": "'NoneType' object has no attribute 'getClass'",
     "output_type": "error",
     "traceback": [
      "\u001b[0;31m---------------------------------------------------------------------------\u001b[0m",
      "\u001b[0;31mAttributeError\u001b[0m                            Traceback (most recent call last)",
      "Cell \u001b[0;32mIn[1], line 26\u001b[0m\n\u001b[1;32m     22\u001b[0m data_no_missing \u001b[38;5;241m=\u001b[39m replace_missing\u001b[38;5;241m.\u001b[39mfilter(data)\n\u001b[1;32m     24\u001b[0m \u001b[38;5;66;03m# Aplicar SMOTE (Synthetic Minority Over-sampling Technique)\u001b[39;00m\n\u001b[1;32m     25\u001b[0m \u001b[38;5;66;03m# Crea un filtro SMOTE para balancear las clases\u001b[39;00m\n\u001b[0;32m---> 26\u001b[0m smote \u001b[38;5;241m=\u001b[39m \u001b[43mFilter\u001b[49m\u001b[43m(\u001b[49m\u001b[43mclassname\u001b[49m\u001b[38;5;241;43m=\u001b[39;49m\u001b[38;5;124;43m\"\u001b[39;49m\u001b[38;5;124;43mweka.filters.supervised.instance.SMOTE\u001b[39;49m\u001b[38;5;124;43m\"\u001b[39;49m\u001b[43m)\u001b[49m\n\u001b[1;32m     27\u001b[0m \u001b[38;5;66;03m# Configura SMOTE con los datos sin valores perdidos\u001b[39;00m\n\u001b[1;32m     28\u001b[0m smote\u001b[38;5;241m.\u001b[39minputformat(data_no_missing)\n",
      "File \u001b[0;32m~/miniconda3/envs/ml/lib/python3.12/site-packages/weka/filters.py:59\u001b[0m, in \u001b[0;36mFilter.__init__\u001b[0;34m(self, classname, jobject, options)\u001b[0m\n\u001b[1;32m     57\u001b[0m \u001b[38;5;28;01mif\u001b[39;00m jobject \u001b[38;5;129;01mis\u001b[39;00m \u001b[38;5;28;01mNone\u001b[39;00m:\n\u001b[1;32m     58\u001b[0m     jobject \u001b[38;5;241m=\u001b[39m Filter\u001b[38;5;241m.\u001b[39mnew_instance(classname)\n\u001b[0;32m---> 59\u001b[0m \u001b[38;5;28;43mself\u001b[39;49m\u001b[38;5;241;43m.\u001b[39;49m\u001b[43menforce_type\u001b[49m\u001b[43m(\u001b[49m\u001b[43mjobject\u001b[49m\u001b[43m,\u001b[49m\u001b[43m \u001b[49m\u001b[38;5;124;43m\"\u001b[39;49m\u001b[38;5;124;43mweka.filters.Filter\u001b[39;49m\u001b[38;5;124;43m\"\u001b[39;49m\u001b[43m)\u001b[49m\n\u001b[1;32m     60\u001b[0m \u001b[38;5;28msuper\u001b[39m(Filter, \u001b[38;5;28mself\u001b[39m)\u001b[38;5;241m.\u001b[39m\u001b[38;5;21m__init__\u001b[39m(jobject\u001b[38;5;241m=\u001b[39mjobject, options\u001b[38;5;241m=\u001b[39moptions)\n",
      "File \u001b[0;32m~/miniconda3/envs/ml/lib/python3.12/site-packages/weka/core/classes.py:514\u001b[0m, in \u001b[0;36mJavaObject.enforce_type\u001b[0;34m(cls, jobject, intf_or_class)\u001b[0m\n\u001b[1;32m    504\u001b[0m \u001b[38;5;129m@classmethod\u001b[39m\n\u001b[1;32m    505\u001b[0m \u001b[38;5;28;01mdef\u001b[39;00m \u001b[38;5;21menforce_type\u001b[39m(\u001b[38;5;28mcls\u001b[39m, jobject, intf_or_class):\n\u001b[1;32m    506\u001b[0m \u001b[38;5;250m    \u001b[39m\u001b[38;5;124;03m\"\"\"\u001b[39;00m\n\u001b[1;32m    507\u001b[0m \u001b[38;5;124;03m    Raises an exception if the object does not implement the specified interface or is not a subclass. \u001b[39;00m\n\u001b[1;32m    508\u001b[0m \n\u001b[0;32m   (...)\u001b[0m\n\u001b[1;32m    512\u001b[0m \u001b[38;5;124;03m    :type intf_or_class: str\u001b[39;00m\n\u001b[1;32m    513\u001b[0m \u001b[38;5;124;03m    \"\"\"\u001b[39;00m\n\u001b[0;32m--> 514\u001b[0m     \u001b[38;5;28;01mif\u001b[39;00m \u001b[38;5;129;01mnot\u001b[39;00m \u001b[38;5;28;43mcls\u001b[39;49m\u001b[38;5;241;43m.\u001b[39;49m\u001b[43mcheck_type\u001b[49m\u001b[43m(\u001b[49m\u001b[43mjobject\u001b[49m\u001b[43m,\u001b[49m\u001b[43m \u001b[49m\u001b[43mintf_or_class\u001b[49m\u001b[43m)\u001b[49m:\n\u001b[1;32m    515\u001b[0m         \u001b[38;5;28;01mraise\u001b[39;00m \u001b[38;5;167;01mTypeError\u001b[39;00m(\u001b[38;5;124m\"\u001b[39m\u001b[38;5;124mObject does not implement or subclass \u001b[39m\u001b[38;5;124m\"\u001b[39m \u001b[38;5;241m+\u001b[39m intf_or_class \u001b[38;5;241m+\u001b[39m \u001b[38;5;124m\"\u001b[39m\u001b[38;5;124m: \u001b[39m\u001b[38;5;124m\"\u001b[39m \u001b[38;5;241m+\u001b[39m get_classname(jobject))\n",
      "File \u001b[0;32m~/miniconda3/envs/ml/lib/python3.12/site-packages/weka/core/classes.py:502\u001b[0m, in \u001b[0;36mJavaObject.check_type\u001b[0;34m(cls, jobject, intf_or_class)\u001b[0m\n\u001b[1;32m    490\u001b[0m \u001b[38;5;129m@classmethod\u001b[39m\n\u001b[1;32m    491\u001b[0m \u001b[38;5;28;01mdef\u001b[39;00m \u001b[38;5;21mcheck_type\u001b[39m(\u001b[38;5;28mcls\u001b[39m, jobject, intf_or_class):\n\u001b[1;32m    492\u001b[0m \u001b[38;5;250m    \u001b[39m\u001b[38;5;124;03m\"\"\"\u001b[39;00m\n\u001b[1;32m    493\u001b[0m \u001b[38;5;124;03m    Returns whether the object implements the specified interface or is a subclass.\u001b[39;00m\n\u001b[1;32m    494\u001b[0m \n\u001b[0;32m   (...)\u001b[0m\n\u001b[1;32m    500\u001b[0m \u001b[38;5;124;03m    :rtype: bool\u001b[39;00m\n\u001b[1;32m    501\u001b[0m \u001b[38;5;124;03m    \"\"\"\u001b[39;00m\n\u001b[0;32m--> 502\u001b[0m     \u001b[38;5;28;01mreturn\u001b[39;00m \u001b[43mis_instance_of\u001b[49m\u001b[43m(\u001b[49m\u001b[43mjobject\u001b[49m\u001b[43m,\u001b[49m\u001b[43m \u001b[49m\u001b[43mintf_or_class\u001b[49m\u001b[43m)\u001b[49m\n",
      "File \u001b[0;32m~/miniconda3/envs/ml/lib/python3.12/site-packages/weka/core/classes.py:258\u001b[0m, in \u001b[0;36mis_instance_of\u001b[0;34m(obj, class_or_intf_name)\u001b[0m\n\u001b[1;32m    256\u001b[0m classname \u001b[38;5;241m=\u001b[39m get_classname(obj)\n\u001b[1;32m    257\u001b[0m \u001b[38;5;66;03m# array? retrieve component type and check that\u001b[39;00m\n\u001b[0;32m--> 258\u001b[0m \u001b[38;5;28;01mif\u001b[39;00m \u001b[43mis_array\u001b[49m\u001b[43m(\u001b[49m\u001b[43mobj\u001b[49m\u001b[43m)\u001b[49m:\n\u001b[1;32m    259\u001b[0m     jarray \u001b[38;5;241m=\u001b[39m JavaArray(jobject\u001b[38;5;241m=\u001b[39mobj)\n\u001b[1;32m    260\u001b[0m     classname \u001b[38;5;241m=\u001b[39m jarray\u001b[38;5;241m.\u001b[39mcomponent_type()\n",
      "File \u001b[0;32m~/miniconda3/envs/ml/lib/python3.12/site-packages/weka/core/classes.py:277\u001b[0m, in \u001b[0;36mis_array\u001b[0;34m(obj)\u001b[0m\n\u001b[1;32m    268\u001b[0m \u001b[38;5;28;01mdef\u001b[39;00m \u001b[38;5;21mis_array\u001b[39m(obj):\n\u001b[1;32m    269\u001b[0m \u001b[38;5;250m    \u001b[39m\u001b[38;5;124;03m\"\"\"\u001b[39;00m\n\u001b[1;32m    270\u001b[0m \u001b[38;5;124;03m    Checks whether the Java object is an array.\u001b[39;00m\n\u001b[1;32m    271\u001b[0m \n\u001b[0;32m   (...)\u001b[0m\n\u001b[1;32m    275\u001b[0m \u001b[38;5;124;03m    :rtype: bool\u001b[39;00m\n\u001b[1;32m    276\u001b[0m \u001b[38;5;124;03m    \"\"\"\u001b[39;00m\n\u001b[0;32m--> 277\u001b[0m     \u001b[38;5;28;01mreturn\u001b[39;00m \u001b[43mobj\u001b[49m\u001b[38;5;241;43m.\u001b[39;49m\u001b[43mgetClass\u001b[49m()\u001b[38;5;241m.\u001b[39misArray()\n",
      "\u001b[0;31mAttributeError\u001b[0m: 'NoneType' object has no attribute 'getClass'"
     ]
    }
   ],
   "source": [
    "import weka.core.jvm as jvm\n",
    "from weka.core.converters import Loader\n",
    "from weka.filters import Filter\n",
    "from weka.core.dataset import Instances\n",
    "import traceback\n",
    "\n",
    "try:\n",
    "    # Iniciar la Máquina Virtual de Java (JVM)\n",
    "    jvm.start()\n",
    "\n",
    "    # Cargar los datos\n",
    "    loader = Loader(classname=\"weka.core.converters.ArffLoader\")\n",
    "    data = loader.load_file(\"adult.arff\")\n",
    "    data.class_is_last()\n",
    "\n",
    "    print(\"Datos cargados correctamente\")\n",
    "\n",
    "    # Reemplazar valores perdidos\n",
    "    replace_missing = Filter(classname=\"weka.filters.unsupervised.attribute.ReplaceMissingValues\")\n",
    "    replace_missing.inputformat(data)\n",
    "    data_no_missing = replace_missing.filter(data)\n",
    "\n",
    "    print(\"Valores perdidos reemplazados\")\n",
    "\n",
    "    # Aplicar SMOTE\n",
    "    print(\"Intentando crear filtro SMOTE...\")\n",
    "    smote = Filter(classname=\"weka.filters.supervised.instance.SMOTE\")\n",
    "    print(\"Filtro SMOTE creado\")\n",
    "\n",
    "    smote.inputformat(data_no_missing)\n",
    "    options = [\"-P\", \"200.0\", \"-K\", \"5\", \"-C\", \"last\"]\n",
    "    smote.options = options\n",
    "    balanced_data = smote.filter(data_no_missing)\n",
    "\n",
    "    print(\"SMOTE aplicado correctamente\")\n",
    "\n",
    "    # Imprimir estadísticas\n",
    "    print(\"Distribución de clases original:\")\n",
    "    print(data.attribute_stats(data.class_index))\n",
    "    print(\"\\nDistribución de clases después de SMOTE:\")\n",
    "    print(balanced_data.attribute_stats(balanced_data.class_index))\n",
    "\n",
    "    # Guardar datos procesados\n",
    "    saver = Loader(classname=\"weka.core.converters.ArffSaver\")\n",
    "    saver.save_file(balanced_data, \"adult_processed.arff\")\n",
    "\n",
    "except Exception as e:\n",
    "    print(f\"Se produjo un error: {e}\")\n",
    "    print(\"Traceback completo:\")\n",
    "    traceback.print_exc()\n",
    "\n",
    "finally:\n",
    "    # Detener la JVM\n",
    "    jvm.stop()"
   ]
  },
  {
   "cell_type": "code",
   "execution_count": null,
   "metadata": {},
   "outputs": [],
   "source": []
  }
 ],
 "metadata": {
  "kernelspec": {
   "display_name": "ml",
   "language": "python",
   "name": "python3"
  },
  "language_info": {
   "codemirror_mode": {
    "name": "ipython",
    "version": 3
   },
   "file_extension": ".py",
   "mimetype": "text/x-python",
   "name": "python",
   "nbconvert_exporter": "python",
   "pygments_lexer": "ipython3",
   "version": "3.12.4"
  }
 },
 "nbformat": 4,
 "nbformat_minor": 2
}
