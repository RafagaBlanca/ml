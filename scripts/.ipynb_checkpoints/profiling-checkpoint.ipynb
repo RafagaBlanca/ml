{
 "cells": [
  {
   "cell_type": "code",
   "execution_count": 2,
   "id": "7ef5b846",
   "metadata": {},
   "outputs": [],
   "source": [
    "import pandas as pd\n",
    "from ydata_profiling import ProfileReport\n",
    "import os\n",
    "\n",
    "\n",
    "df = pd.read_csv('../data/bezdekIris.csv')\n",
    "\n"
   ]
  },
  {
   "cell_type": "code",
   "execution_count": 3,
   "id": "1b02e278",
   "metadata": {},
   "outputs": [
    {
     "name": "stderr",
     "output_type": "stream",
     "text": [
      "Summarize dataset: 100%|██████████████████████████████████████████████████████████████████| 30/30 [00:03<00:00,  7.99it/s, Completed]\n",
      "Generate report structure: 100%|███████████████████████████████████████████████████████████████████████| 1/1 [00:02<00:00,  2.79s/it]\n",
      "Render HTML: 100%|█████████████████████████████████████████████████████████████████████████████████████| 1/1 [00:00<00:00,  1.44it/s]\n",
      "Export report to file: 100%|██████████████████████████████████████████████████████████████████████████| 1/1 [00:00<00:00, 510.44it/s]\n"
     ]
    }
   ],
   "source": [
    "profile = ProfileReport(df, title=\"Profiling Report\")\n",
    "\n",
    "profile.to_file('./report.html')"
   ]
  },
  {
   "cell_type": "code",
   "execution_count": null,
   "id": "4e6fa174",
   "metadata": {},
   "outputs": [],
   "source": []
  }
 ],
 "metadata": {
  "kernelspec": {
   "display_name": "Python 3 (ipykernel)",
   "language": "python",
   "name": "python3"
  },
  "language_info": {
   "codemirror_mode": {
    "name": "ipython",
    "version": 3
   },
   "file_extension": ".py",
   "mimetype": "text/x-python",
   "name": "python",
   "nbconvert_exporter": "python",
   "pygments_lexer": "ipython3",
   "version": "3.12.4"
  }
 },
 "nbformat": 4,
 "nbformat_minor": 5
}
