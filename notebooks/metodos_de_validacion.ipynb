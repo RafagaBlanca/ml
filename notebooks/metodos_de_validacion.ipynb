{
 "cells": [
  {
   "cell_type": "code",
   "execution_count": 1,
   "metadata": {},
   "outputs": [],
   "source": [
    "import sys\n",
    "sys.path.append(\"../src\")"
   ]
  },
  {
   "cell_type": "code",
   "execution_count": 2,
   "metadata": {},
   "outputs": [
    {
     "name": "stdout",
     "output_type": "stream",
     "text": [
      "Glass Dataset:\n",
      "   Id       RI     Na    Mg    Al     Si     K    Ca   Ba   Fe  Type\n",
      "0   1  1.52101  13.64  4.49  1.10  71.78  0.06  8.75  0.0  0.0     1\n",
      "1   2  1.51761  13.89  3.60  1.36  72.73  0.48  7.83  0.0  0.0     1\n",
      "2   3  1.51618  13.53  3.55  1.54  72.99  0.39  7.78  0.0  0.0     1\n",
      "3   4  1.51766  13.21  3.69  1.29  72.61  0.57  8.22  0.0  0.0     1\n",
      "4   5  1.51742  13.27  3.62  1.24  73.08  0.55  8.07  0.0  0.0     1\n",
      "\n",
      "Iris Dataset:\n",
      "   SepalLength  SepalWidth  PetalLength  PetalWidth        Class\n",
      "0          5.1         3.5          1.4         0.2  Iris-setosa\n",
      "1          4.9         3.0          1.4         0.2  Iris-setosa\n",
      "2          4.7         3.2          1.3         0.2  Iris-setosa\n",
      "3          4.6         3.1          1.5         0.2  Iris-setosa\n",
      "4          5.0         3.6          1.4         0.2  Iris-setosa\n"
     ]
    }
   ],
   "source": [
    "import pandas as pd\n",
    "\n",
    "# URLs de los datasets\n",
    "glass_url = \"https://archive.ics.uci.edu/ml/machine-learning-databases/glass/glass.data\"\n",
    "iris_url = \"https://archive.ics.uci.edu/ml/machine-learning-databases/iris/iris.data\"\n",
    "\n",
    "# Columnas de los datasets\n",
    "glass_columns = [\n",
    "    \"Id\", \"RI\", \"Na\", \"Mg\", \"Al\", \"Si\", \"K\", \"Ca\", \"Ba\", \"Fe\", \"Type\"\n",
    "]\n",
    "iris_columns = [\"SepalLength\", \"SepalWidth\", \"PetalLength\", \"PetalWidth\", \"Class\"]\n",
    "\n",
    "# Cargar los datasets directamente desde las URLs\n",
    "glass_df = pd.read_csv(glass_url, names=glass_columns, header=None)\n",
    "iris_df = pd.read_csv(iris_url, names=iris_columns, header=None)\n",
    "\n",
    "# Verificar la carga\n",
    "print(\"Glass Dataset:\")\n",
    "print(glass_df.head())\n",
    "\n",
    "print(\"\\nIris Dataset:\")\n",
    "print(iris_df.head())\n"
   ]
  },
  {
   "cell_type": "code",
   "execution_count": 4,
   "metadata": {},
   "outputs": [
    {
     "name": "stdout",
     "output_type": "stream",
     "text": [
      "Glass Dataset Preprocesado:\n",
      "         RI        Na        Mg        Al        Si         K        Ca   Ba  \\\n",
      "0  0.432836  0.437594  1.000000  0.252336  0.351786  0.009662  0.308550  0.0   \n",
      "1  0.283582  0.475188  0.801782  0.333333  0.521429  0.077295  0.223048  0.0   \n",
      "2  0.220808  0.421053  0.790646  0.389408  0.567857  0.062802  0.218401  0.0   \n",
      "3  0.285777  0.372932  0.821826  0.311526  0.500000  0.091787  0.259294  0.0   \n",
      "4  0.275241  0.381955  0.806236  0.295950  0.583929  0.088567  0.245353  0.0   \n",
      "\n",
      "    Fe  Type  \n",
      "0  0.0     1  \n",
      "1  0.0     1  \n",
      "2  0.0     1  \n",
      "3  0.0     1  \n",
      "4  0.0     1  \n",
      "\n",
      "Iris Dataset Preprocesado:\n",
      "   SepalLength  SepalWidth  PetalLength  PetalWidth  Class\n",
      "0     0.222222    0.625000     0.067797    0.041667      0\n",
      "1     0.166667    0.416667     0.067797    0.041667      0\n",
      "2     0.111111    0.500000     0.050847    0.041667      0\n",
      "3     0.083333    0.458333     0.084746    0.041667      0\n",
      "4     0.194444    0.666667     0.067797    0.041667      0\n"
     ]
    }
   ],
   "source": [
    "from preprocess import min_max_scaler\n",
    "\n",
    "# Preprocesamiento para el Glass Dataset\n",
    "glass_features = glass_df.drop(columns=[\"Id\", \"Type\"])  # Eliminar columnas no numéricas\n",
    "glass_target = glass_df[\"Type\"]\n",
    "\n",
    "# Normalizar con min_max_scaler\n",
    "glass_features_normalized = min_max_scaler(glass_features.values.tolist())\n",
    "glass_data_normalized = pd.DataFrame(glass_features_normalized, columns=glass_features.columns)\n",
    "glass_data_normalized[\"Type\"] = glass_target\n",
    "\n",
    "# Preprocesamiento para el Iris Dataset\n",
    "iris_features = iris_df.drop(columns=[\"Class\"])\n",
    "iris_target = iris_df[\"Class\"]\n",
    "\n",
    "# Convertir clases a valores numéricos\n",
    "iris_target_numeric = iris_target.map({\n",
    "    \"Iris-setosa\": 0,\n",
    "    \"Iris-versicolor\": 1,\n",
    "    \"Iris-virginica\": 2\n",
    "})\n",
    "\n",
    "# Normalizar con min_max_scaler\n",
    "iris_features_normalized = min_max_scaler(iris_features.values.tolist())\n",
    "iris_data_normalized = pd.DataFrame(iris_features_normalized, columns=iris_features.columns)\n",
    "iris_data_normalized[\"Class\"] = iris_target_numeric\n",
    "\n",
    "# Verificar el resultado\n",
    "print(\"Glass Dataset Preprocesado:\")\n",
    "print(glass_data_normalized.head())\n",
    "\n",
    "print(\"\\nIris Dataset Preprocesado:\")\n",
    "print(iris_data_normalized.head())\n"
   ]
  },
  {
   "cell_type": "code",
   "execution_count": 5,
   "metadata": {},
   "outputs": [
    {
     "name": "stdout",
     "output_type": "stream",
     "text": [
      "Hold-Out Glass Dataset:\n",
      "Tamaño de entrenamiento: 150, Tamaño de prueba: 64\n",
      "\n",
      "Hold-Out Iris Dataset:\n",
      "Tamaño de entrenamiento: 105, Tamaño de prueba: 45\n"
     ]
    }
   ],
   "source": [
    "from validation import hold_out\n",
    "\n",
    "# Parámetro r para dividir los datos\n",
    "test_size = 0.3  # 30% para prueba, 70% para entrenamiento\n",
    "\n",
    "# Hold-Out para el Glass Dataset\n",
    "X_glass = glass_data_normalized.drop(columns=[\"Type\"]).values.tolist()\n",
    "y_glass = glass_data_normalized[\"Type\"].values.tolist()\n",
    "\n",
    "X_train_glass, X_test_glass, y_train_glass, y_test_glass = hold_out(X_glass, y_glass, test_size=test_size, random_seed=42)\n",
    "\n",
    "print(\"Hold-Out Glass Dataset:\")\n",
    "print(f\"Tamaño de entrenamiento: {len(X_train_glass)}, Tamaño de prueba: {len(X_test_glass)}\")\n",
    "\n",
    "# Hold-Out para el Iris Dataset\n",
    "X_iris = iris_data_normalized.drop(columns=[\"Class\"]).values.tolist()\n",
    "y_iris = iris_data_normalized[\"Class\"].values.tolist()\n",
    "\n",
    "X_train_iris, X_test_iris, y_train_iris, y_test_iris = hold_out(X_iris, y_iris, test_size=test_size, random_seed=42)\n",
    "\n",
    "print(\"\\nHold-Out Iris Dataset:\")\n",
    "print(f\"Tamaño de entrenamiento: {len(X_train_iris)}, Tamaño de prueba: {len(X_test_iris)}\")\n"
   ]
  },
  {
   "cell_type": "code",
   "execution_count": 6,
   "metadata": {},
   "outputs": [
    {
     "name": "stdout",
     "output_type": "stream",
     "text": [
      "K-Fold Glass Dataset:\n",
      "  Fold 1:\n",
      "    Tamaño de entrenamiento: 172, Tamaño de validación: 42\n",
      "  Fold 2:\n",
      "    Tamaño de entrenamiento: 172, Tamaño de validación: 42\n",
      "  Fold 3:\n",
      "    Tamaño de entrenamiento: 172, Tamaño de validación: 42\n",
      "  Fold 4:\n",
      "    Tamaño de entrenamiento: 172, Tamaño de validación: 42\n",
      "  Fold 5:\n",
      "    Tamaño de entrenamiento: 172, Tamaño de validación: 42\n",
      "\n",
      "K-Fold Iris Dataset:\n",
      "  Fold 1:\n",
      "    Tamaño de entrenamiento: 120, Tamaño de validación: 30\n",
      "  Fold 2:\n",
      "    Tamaño de entrenamiento: 120, Tamaño de validación: 30\n",
      "  Fold 3:\n",
      "    Tamaño de entrenamiento: 120, Tamaño de validación: 30\n",
      "  Fold 4:\n",
      "    Tamaño de entrenamiento: 120, Tamaño de validación: 30\n",
      "  Fold 5:\n",
      "    Tamaño de entrenamiento: 120, Tamaño de validación: 30\n"
     ]
    }
   ],
   "source": [
    "from validation import k_fold_cross_validation\n",
    "\n",
    "# Parámetro K para dividir los datos\n",
    "k = 5  # Número de pliegues\n",
    "\n",
    "# K-Fold Cross-Validation para el Glass Dataset\n",
    "folds_glass = k_fold_cross_validation(X_glass, y_glass, k=k)\n",
    "\n",
    "print(\"K-Fold Glass Dataset:\")\n",
    "for i, (X_train, X_val, y_train, y_val) in enumerate(folds_glass, 1):\n",
    "    print(f\"  Fold {i}:\")\n",
    "    print(f\"    Tamaño de entrenamiento: {len(X_train)}, Tamaño de validación: {len(X_val)}\")\n",
    "\n",
    "# K-Fold Cross-Validation para el Iris Dataset\n",
    "folds_iris = k_fold_cross_validation(X_iris, y_iris, k=k)\n",
    "\n",
    "print(\"\\nK-Fold Iris Dataset:\")\n",
    "for i, (X_train, X_val, y_train, y_val) in enumerate(folds_iris, 1):\n",
    "    print(f\"  Fold {i}:\")\n",
    "    print(f\"    Tamaño de entrenamiento: {len(X_train)}, Tamaño de validación: {len(X_val)}\")\n"
   ]
  },
  {
   "cell_type": "code",
   "execution_count": 7,
   "metadata": {},
   "outputs": [
    {
     "name": "stdout",
     "output_type": "stream",
     "text": [
      "Leave-One-Out Glass Dataset:\n",
      "  Iteración 1:\n",
      "    Tamaño de entrenamiento: 213, Tamaño de validación: 1\n",
      "  Iteración 2:\n",
      "    Tamaño de entrenamiento: 213, Tamaño de validación: 1\n",
      "  Iteración 3:\n",
      "    Tamaño de entrenamiento: 213, Tamaño de validación: 1\n",
      "  Iteración 4:\n",
      "    Tamaño de entrenamiento: 213, Tamaño de validación: 1\n",
      "  Iteración 5:\n",
      "    Tamaño de entrenamiento: 213, Tamaño de validación: 1\n",
      "\n",
      "Leave-One-Out Iris Dataset:\n",
      "  Iteración 1:\n",
      "    Tamaño de entrenamiento: 149, Tamaño de validación: 1\n",
      "  Iteración 2:\n",
      "    Tamaño de entrenamiento: 149, Tamaño de validación: 1\n",
      "  Iteración 3:\n",
      "    Tamaño de entrenamiento: 149, Tamaño de validación: 1\n",
      "  Iteración 4:\n",
      "    Tamaño de entrenamiento: 149, Tamaño de validación: 1\n",
      "  Iteración 5:\n",
      "    Tamaño de entrenamiento: 149, Tamaño de validación: 1\n"
     ]
    }
   ],
   "source": [
    "from validation import leave_one_out\n",
    "\n",
    "# Leave-One-Out para el Glass Dataset\n",
    "loo_glass = leave_one_out(X_glass, y_glass)\n",
    "\n",
    "print(\"Leave-One-Out Glass Dataset:\")\n",
    "for i, (X_train, X_val, y_train, y_val) in enumerate(loo_glass[:5], 1):  # Mostrar solo las primeras 5 iteraciones\n",
    "    print(f\"  Iteración {i}:\")\n",
    "    print(f\"    Tamaño de entrenamiento: {len(X_train)}, Tamaño de validación: {len(X_val)}\")\n",
    "\n",
    "# Leave-One-Out para el Iris Dataset\n",
    "loo_iris = leave_one_out(X_iris, y_iris)\n",
    "\n",
    "print(\"\\nLeave-One-Out Iris Dataset:\")\n",
    "for i, (X_train, X_val, y_train, y_val) in enumerate(loo_iris[:5], 1):  # Mostrar solo las primeras 5 iteraciones\n",
    "    print(f\"  Iteración {i}:\")\n",
    "    print(f\"    Tamaño de entrenamiento: {len(X_train)}, Tamaño de validación: {len(X_val)}\")\n"
   ]
  },
  {
   "cell_type": "code",
   "execution_count": null,
   "metadata": {},
   "outputs": [],
   "source": []
  }
 ],
 "metadata": {
  "kernelspec": {
   "display_name": "ml",
   "language": "python",
   "name": "python3"
  },
  "language_info": {
   "codemirror_mode": {
    "name": "ipython",
    "version": 3
   },
   "file_extension": ".py",
   "mimetype": "text/x-python",
   "name": "python",
   "nbconvert_exporter": "python",
   "pygments_lexer": "ipython3",
   "version": "3.12.4"
  }
 },
 "nbformat": 4,
 "nbformat_minor": 2
}
