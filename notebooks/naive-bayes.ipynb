{
 "cells": [
  {
   "cell_type": "code",
   "execution_count": 1,
   "metadata": {},
   "outputs": [],
   "source": [
    "import numpy as np\n",
    "import seaborn as sns\n",
    "import matplotlib.pyplot as plt\n",
    "\n",
    "from sklearn.datasets import load_iris, load_wine, load_breast_cancer\n",
    "from sklearn.model_selection import StratifiedShuffleSplit, StratifiedKFold, LeaveOneOut\n",
    "from sklearn.metrics import accuracy_score, classification_report, confusion_matrix"
   ]
  },
  {
   "cell_type": "markdown",
   "metadata": {},
   "source": [
    "# 1. Implementacion del Naive Bayes"
   ]
  },
  {
   "cell_type": "code",
   "execution_count": 2,
   "metadata": {},
   "outputs": [],
   "source": [
    "class NaiveBayes:\n",
    "    def fit(self, X, y):\n",
    "        # Almacenar las clases únicas presentes en y\n",
    "        self.classes = np.unique(y)\n",
    "        # Inicializar diccionarios para medias, varianzas y probabilidades a priori\n",
    "        self.mean = {}\n",
    "        self.var = {}\n",
    "        self.priors = {}\n",
    "        \n",
    "        # Calcular estadísticas para cada clase\n",
    "        for c in self.classes:\n",
    "            # Filtrar las muestras que pertenecen a la clase c\n",
    "            X_c = X[y == c]\n",
    "            # Calcular la media de cada característica para la clase c\n",
    "            self.mean[c] = X_c.mean(axis=0)\n",
    "            # Calcular la varianza de cada característica para la clase c\n",
    "            # Se añade una pequeña constante para evitar división por cero\n",
    "            self.var[c] = X_c.var(axis=0) + 1e-9\n",
    "            # Calcular la probabilidad a priori de la clase c\n",
    "            self.priors[c] = X_c.shape[0] / X.shape[0]\n",
    "\n",
    "    def predict(self, X):\n",
    "        # Predecir la clase para cada muestra en X\n",
    "        y_pred = [self._predict_instance(x) for x in X]\n",
    "        return np.array(y_pred)\n",
    "\n",
    "    def _predict_instance(self, x):\n",
    "        # Calcular la probabilidad posterior para cada clase\n",
    "        posteriors = []\n",
    "        \n",
    "        for c in self.classes:\n",
    "            # Obtener el logaritmo del prior de la clase\n",
    "            prior = np.log(self.priors[c])\n",
    "            # Calcular la suma de los logaritmos de las probabilidades de las características dado la clase\n",
    "            class_conditional = np.sum(np.log(self._pdf(c, x)))\n",
    "            # Calcular el logaritmo de la probabilidad posterior\n",
    "            posterior = prior + class_conditional\n",
    "            # Almacenar la probabilidad posterior\n",
    "            posteriors.append(posterior)\n",
    "        \n",
    "        # Retornar la clase con la mayor probabilidad posterior\n",
    "        return self.classes[np.argmax(posteriors)]\n",
    "    \n",
    "    def _pdf(self, class_idx, x):\n",
    "        # Calcular la función de densidad de probabilidad Gaussiana\n",
    "        mean = self.mean[class_idx]\n",
    "        var = self.var[class_idx]\n",
    "        # Cálculo del numerador de la función de densidad Gaussiana\n",
    "        numerator = np.exp(- (x - mean) ** 2 / (2 * var))\n",
    "        # Cálculo del denominador de la función de densidad Gaussiana\n",
    "        denominator = np.sqrt(2 * np.pi * var)\n",
    "        # Retornar la probabilidad de x dado la clase\n",
    "        return numerator / denominator\n"
   ]
  },
  {
   "cell_type": "markdown",
   "metadata": {},
   "source": [
    "# 2. Datasets"
   ]
  },
  {
   "cell_type": "markdown",
   "metadata": {},
   "source": [
    "## 2.1 Wine Dataset"
   ]
  },
  {
   "cell_type": "code",
   "execution_count": 3,
   "metadata": {},
   "outputs": [],
   "source": [
    "data = load_wine()\n",
    "X = data.data\n",
    "y = data.target\n",
    "target_names = data.target_names"
   ]
  },
  {
   "cell_type": "markdown",
   "metadata": {},
   "source": [
    "### Hold-out"
   ]
  },
  {
   "cell_type": "code",
   "execution_count": 4,
   "metadata": {},
   "outputs": [
    {
     "name": "stdout",
     "output_type": "stream",
     "text": [
      "Accuracy Hold-out 70/30: 1.0000\n"
     ]
    }
   ],
   "source": [
    "# Hold-out 70/30 estratificado\n",
    "sss = StratifiedShuffleSplit(n_splits=1, test_size=0.3, random_state=42)\n",
    "\n",
    "for train_index, test_index in sss.split(X, y):\n",
    "    # Dividir los datos en entrenamiento y prueba manteniendo la proporción de clases\n",
    "    X_train, X_test = X[train_index], X[test_index]\n",
    "    y_train, y_test = y[train_index], y[test_index]\n",
    "\n",
    "# Crear y entrenar el modelo\n",
    "model = NaiveBayes()\n",
    "model.fit(X_train, y_train)\n",
    "\n",
    "# Predecir las etiquetas del conjunto de prueba\n",
    "y_pred = model.predict(X_test)\n",
    "\n",
    "# Calcular la precisión del modelo\n",
    "accuracy = accuracy_score(y_test, y_pred)\n",
    "print(f\"Accuracy Hold-out 70/30: {accuracy:.4f}\")\n",
    "\n",
    "# Generar la matriz de confusión\n",
    "conf_mat = confusion_matrix(y_test, y_pred)\n",
    "\n",
    "# Graficar y guardar la matriz de confusión\n",
    "plt.figure(figsize=(8,6))\n",
    "sns.heatmap(conf_mat, annot=True, fmt='d', cmap='Blues',\n",
    "            xticklabels=target_names, yticklabels=target_names)\n",
    "plt.ylabel('Actual')\n",
    "plt.xlabel('Predicted')\n",
    "plt.title('Confusion Matrix - Hold-out 70/30')\n",
    "plt.savefig('wine-holdout.png')\n",
    "plt.close()\n"
   ]
  },
  {
   "cell_type": "markdown",
   "metadata": {},
   "source": [
    "### Validacion cruzada"
   ]
  },
  {
   "cell_type": "code",
   "execution_count": 5,
   "metadata": {},
   "outputs": [
    {
     "name": "stdout",
     "output_type": "stream",
     "text": [
      "Mean Accuracy 10-Fold CV: 0.9778\n"
     ]
    }
   ],
   "source": [
    "# Validación cruzada estratificada de 10 particiones\n",
    "k = 10  # Valor de k elegido anteriormente\n",
    "skf = StratifiedKFold(n_splits=k, shuffle=True, random_state=42)\n",
    "accuracies = []\n",
    "conf_mat_total = np.zeros((len(np.unique(y)), len(np.unique(y))), dtype=int)\n",
    "\n",
    "# Iterar sobre cada fold de la validación cruzada\n",
    "for fold, (train_index, test_index) in enumerate(skf.split(X, y)):\n",
    "    # Dividir los datos en entrenamiento y prueba para el fold actual\n",
    "    X_train, X_test = X[train_index], X[test_index]\n",
    "    y_train, y_test = y[train_index], y[test_index]\n",
    "\n",
    "    # Crear y entrenar el modelo\n",
    "    model = NaiveBayes()\n",
    "    model.fit(X_train, y_train)\n",
    "\n",
    "    # Predecir las etiquetas del conjunto de prueba\n",
    "    y_pred = model.predict(X_test)\n",
    "\n",
    "    # Calcular la precisión y acumularla\n",
    "    acc = accuracy_score(y_test, y_pred)\n",
    "    accuracies.append(acc)\n",
    "\n",
    "    # Generar la matriz de confusión y acumularla\n",
    "    conf_mat = confusion_matrix(y_test, y_pred)\n",
    "    conf_mat_total += conf_mat\n",
    "\n",
    "# Calcular la precisión promedio\n",
    "mean_accuracy = np.mean(accuracies)\n",
    "print(f\"Mean Accuracy 10-Fold CV: {mean_accuracy:.4f}\")\n",
    "\n",
    "# Graficar y guardar la matriz de confusión acumulada\n",
    "plt.figure(figsize=(8,6))\n",
    "sns.heatmap(conf_mat_total, annot=True, fmt='d', cmap='Blues',\n",
    "            xticklabels=target_names, yticklabels=target_names)\n",
    "plt.ylabel('Actual')\n",
    "plt.xlabel('Predicted')\n",
    "plt.title('Confusion Matrix - 10-Fold CV')\n",
    "plt.savefig('kfold_wine.png')\n",
    "plt.close()\n"
   ]
  },
  {
   "cell_type": "markdown",
   "metadata": {},
   "source": [
    "### Leave One Out"
   ]
  },
  {
   "cell_type": "code",
   "execution_count": 6,
   "metadata": {},
   "outputs": [
    {
     "name": "stdout",
     "output_type": "stream",
     "text": [
      "Mean Accuracy Leave-One-Out: 0.9775\n"
     ]
    }
   ],
   "source": [
    "# Leave-One-Out Cross-Validation\n",
    "loo = LeaveOneOut()\n",
    "accuracies = []\n",
    "y_tests = []\n",
    "y_preds = []\n",
    "\n",
    "# Iterar sobre cada muestra dejándola como conjunto de prueba\n",
    "for train_index, test_index in loo.split(X):\n",
    "    # Dividir los datos en entrenamiento y prueba\n",
    "    X_train, X_test = X[train_index], X[test_index]\n",
    "    y_train, y_test = y[train_index], y[test_index]\n",
    "\n",
    "    # Crear y entrenar el modelo\n",
    "    model = NaiveBayes()\n",
    "    model.fit(X_train, y_train)\n",
    "\n",
    "    # Predecir la etiqueta de la muestra de prueba\n",
    "    y_pred = model.predict(X_test)\n",
    "\n",
    "    # Calcular la precisión y acumularla\n",
    "    acc = accuracy_score(y_test, y_pred)\n",
    "    accuracies.append(acc)\n",
    "\n",
    "    # Almacenar las etiquetas reales y predichas\n",
    "    y_tests.append(y_test[0])\n",
    "    y_preds.append(y_pred[0])\n",
    "\n",
    "# Calcular la precisión promedio\n",
    "mean_accuracy = np.mean(accuracies)\n",
    "print(f\"Mean Accuracy Leave-One-Out: {mean_accuracy:.4f}\")\n",
    "\n",
    "# Generar la matriz de confusión\n",
    "conf_mat = confusion_matrix(y_tests, y_preds)\n",
    "\n",
    "# Graficar y guardar la matriz de confusión\n",
    "plt.figure(figsize=(8,6))\n",
    "sns.heatmap(conf_mat, annot=True, fmt='d', cmap='Blues',\n",
    "            xticklabels=target_names, yticklabels=target_names)\n",
    "plt.ylabel('Actual')\n",
    "plt.xlabel('Predicted')\n",
    "plt.title('Confusion Matrix - Leave-One-Out CV')\n",
    "plt.savefig('loo_wine.png')\n",
    "plt.close()\n"
   ]
  },
  {
   "cell_type": "markdown",
   "metadata": {},
   "source": [
    "### 2.2 Iris Dataset"
   ]
  },
  {
   "cell_type": "code",
   "execution_count": 7,
   "metadata": {},
   "outputs": [],
   "source": [
    "data = load_iris()\n",
    "X = data.data\n",
    "y = data.target\n",
    "target_names = data.target_names"
   ]
  },
  {
   "cell_type": "markdown",
   "metadata": {},
   "source": [
    "### Holdout"
   ]
  },
  {
   "cell_type": "code",
   "execution_count": 8,
   "metadata": {},
   "outputs": [
    {
     "name": "stdout",
     "output_type": "stream",
     "text": [
      "Accuracy Hold-out 70/30: 0.9111\n"
     ]
    }
   ],
   "source": [
    "# Hold-out 70/30 estratificado\n",
    "sss = StratifiedShuffleSplit(n_splits=1, test_size=0.3, random_state=42)\n",
    "\n",
    "for train_index, test_index in sss.split(X, y):\n",
    "    # Dividir los datos en entrenamiento y prueba manteniendo la proporción de clases\n",
    "    X_train, X_test = X[train_index], X[test_index]\n",
    "    y_train, y_test = y[train_index], y[test_index]\n",
    "\n",
    "# Crear y entrenar el modelo\n",
    "model = NaiveBayes()\n",
    "model.fit(X_train, y_train)\n",
    "\n",
    "# Predecir las etiquetas del conjunto de prueba\n",
    "y_pred = model.predict(X_test)\n",
    "\n",
    "# Calcular la precisión del modelo\n",
    "accuracy = accuracy_score(y_test, y_pred)\n",
    "print(f\"Accuracy Hold-out 70/30: {accuracy:.4f}\")\n",
    "\n",
    "# Generar la matriz de confusión\n",
    "conf_mat = confusion_matrix(y_test, y_pred)\n",
    "\n",
    "# Graficar y guardar la matriz de confusión\n",
    "plt.figure(figsize=(8,6))\n",
    "sns.heatmap(conf_mat, annot=True, fmt='d', cmap='Blues',\n",
    "            xticklabels=target_names, yticklabels=target_names)\n",
    "plt.ylabel('Actual')\n",
    "plt.xlabel('Predicted')\n",
    "plt.title('Confusion Matrix - Hold-out 70/30')\n",
    "plt.savefig('iris_holdout.png')\n",
    "plt.close()\n"
   ]
  },
  {
   "cell_type": "markdown",
   "metadata": {},
   "source": [
    "### Validacion Cruzada"
   ]
  },
  {
   "cell_type": "code",
   "execution_count": 9,
   "metadata": {},
   "outputs": [
    {
     "name": "stdout",
     "output_type": "stream",
     "text": [
      "Mean Accuracy 10-Fold CV: 0.9467\n"
     ]
    }
   ],
   "source": [
    "# Validación cruzada estratificada de 10 particiones\n",
    "k = 5  # Valor de k elegido anteriormente\n",
    "skf = StratifiedKFold(n_splits=k, shuffle=True, random_state=42)\n",
    "accuracies = []\n",
    "conf_mat_total = np.zeros((len(np.unique(y)), len(np.unique(y))), dtype=int)\n",
    "\n",
    "# Iterar sobre cada fold de la validación cruzada\n",
    "for fold, (train_index, test_index) in enumerate(skf.split(X, y)):\n",
    "    # Dividir los datos en entrenamiento y prueba para el fold actual\n",
    "    X_train, X_test = X[train_index], X[test_index]\n",
    "    y_train, y_test = y[train_index], y[test_index]\n",
    "\n",
    "    # Crear y entrenar el modelo\n",
    "    model = NaiveBayes()\n",
    "    model.fit(X_train, y_train)\n",
    "\n",
    "    # Predecir las etiquetas del conjunto de prueba\n",
    "    y_pred = model.predict(X_test)\n",
    "\n",
    "    # Calcular la precisión y acumularla\n",
    "    acc = accuracy_score(y_test, y_pred)\n",
    "    accuracies.append(acc)\n",
    "\n",
    "    # Generar la matriz de confusión y acumularla\n",
    "    conf_mat = confusion_matrix(y_test, y_pred)\n",
    "    conf_mat_total += conf_mat\n",
    "\n",
    "# Calcular la precisión promedio\n",
    "mean_accuracy = np.mean(accuracies)\n",
    "print(f\"Mean Accuracy 10-Fold CV: {mean_accuracy:.4f}\")\n",
    "\n",
    "# Graficar y guardar la matriz de confusión acumulada\n",
    "plt.figure(figsize=(8,6))\n",
    "sns.heatmap(conf_mat_total, annot=True, fmt='d', cmap='Blues',\n",
    "            xticklabels=target_names, yticklabels=target_names)\n",
    "plt.ylabel('Actual')\n",
    "plt.xlabel('Predicted')\n",
    "plt.title('Confusion Matrix - 10-Fold CV')\n",
    "plt.savefig('kfold_iris.png')\n",
    "plt.close()\n"
   ]
  },
  {
   "cell_type": "markdown",
   "metadata": {},
   "source": [
    "### Leave One Out"
   ]
  },
  {
   "cell_type": "code",
   "execution_count": 10,
   "metadata": {},
   "outputs": [
    {
     "name": "stdout",
     "output_type": "stream",
     "text": [
      "Mean Accuracy Leave-One-Out: 0.9533\n"
     ]
    }
   ],
   "source": [
    "# Leave-One-Out Cross-Validation\n",
    "loo = LeaveOneOut()\n",
    "accuracies = []\n",
    "y_tests = []\n",
    "y_preds = []\n",
    "\n",
    "# Iterar sobre cada muestra dejándola como conjunto de prueba\n",
    "for train_index, test_index in loo.split(X):\n",
    "    # Dividir los datos en entrenamiento y prueba\n",
    "    X_train, X_test = X[train_index], X[test_index]\n",
    "    y_train, y_test = y[train_index], y[test_index]\n",
    "\n",
    "    # Crear y entrenar el modelo\n",
    "    model = NaiveBayes()\n",
    "    model.fit(X_train, y_train)\n",
    "\n",
    "    # Predecir la etiqueta de la muestra de prueba\n",
    "    y_pred = model.predict(X_test)\n",
    "\n",
    "    # Calcular la precisión y acumularla\n",
    "    acc = accuracy_score(y_test, y_pred)\n",
    "    accuracies.append(acc)\n",
    "\n",
    "    # Almacenar las etiquetas reales y predichas\n",
    "    y_tests.append(y_test[0])\n",
    "    y_preds.append(y_pred[0])\n",
    "\n",
    "# Calcular la precisión promedio\n",
    "mean_accuracy = np.mean(accuracies)\n",
    "print(f\"Mean Accuracy Leave-One-Out: {mean_accuracy:.4f}\")\n",
    "\n",
    "# Generar la matriz de confusión\n",
    "conf_mat = confusion_matrix(y_tests, y_preds)\n",
    "\n",
    "# Graficar y guardar la matriz de confusión\n",
    "plt.figure(figsize=(8,6))\n",
    "sns.heatmap(conf_mat, annot=True, fmt='d', cmap='Blues',\n",
    "            xticklabels=target_names, yticklabels=target_names)\n",
    "plt.ylabel('Actual')\n",
    "plt.xlabel('Predicted')\n",
    "plt.title('Confusion Matrix - Leave-One-Out CV')\n",
    "plt.savefig('loo_iris.png')\n",
    "plt.close()\n"
   ]
  },
  {
   "cell_type": "markdown",
   "metadata": {},
   "source": [
    "## 2.3 Breast Cancer Dataset"
   ]
  },
  {
   "cell_type": "code",
   "execution_count": 11,
   "metadata": {},
   "outputs": [],
   "source": [
    "data = load_breast_cancer()\n",
    "X = data.data\n",
    "y = data.target\n",
    "target_names = data.target_names"
   ]
  },
  {
   "cell_type": "markdown",
   "metadata": {},
   "source": [
    "### Holdout"
   ]
  },
  {
   "cell_type": "code",
   "execution_count": 12,
   "metadata": {},
   "outputs": [
    {
     "name": "stderr",
     "output_type": "stream",
     "text": [
      "/tmp/ipykernel_128360/2845666160.py:35: RuntimeWarning: divide by zero encountered in log\n",
      "  class_conditional = np.sum(np.log(self._pdf(c, x)))\n"
     ]
    },
    {
     "name": "stdout",
     "output_type": "stream",
     "text": [
      "Accuracy Hold-out 70/30: 0.9357\n"
     ]
    }
   ],
   "source": [
    "# Hold-out 70/30 estratificado\n",
    "sss = StratifiedShuffleSplit(n_splits=1, test_size=0.3, random_state=42)\n",
    "\n",
    "for train_index, test_index in sss.split(X, y):\n",
    "    # Dividir los datos en entrenamiento y prueba manteniendo la proporción de clases\n",
    "    X_train, X_test = X[train_index], X[test_index]\n",
    "    y_train, y_test = y[train_index], y[test_index]\n",
    "\n",
    "# Crear y entrenar el modelo\n",
    "model = NaiveBayes()\n",
    "model.fit(X_train, y_train)\n",
    "\n",
    "# Predecir las etiquetas del conjunto de prueba\n",
    "y_pred = model.predict(X_test)\n",
    "\n",
    "# Calcular la precisión del modelo\n",
    "accuracy = accuracy_score(y_test, y_pred)\n",
    "print(f\"Accuracy Hold-out 70/30: {accuracy:.4f}\")\n",
    "\n",
    "# Generar la matriz de confusión\n",
    "conf_mat = confusion_matrix(y_test, y_pred)\n",
    "\n",
    "# Graficar y guardar la matriz de confusión\n",
    "plt.figure(figsize=(8,6))\n",
    "sns.heatmap(conf_mat, annot=True, fmt='d', cmap='Blues',\n",
    "            xticklabels=target_names, yticklabels=target_names)\n",
    "plt.ylabel('Actual')\n",
    "plt.xlabel('Predicted')\n",
    "plt.title('Confusion Matrix - Hold-out 70/30')\n",
    "plt.savefig('breast_holdout.png')\n",
    "plt.close()\n"
   ]
  },
  {
   "cell_type": "markdown",
   "metadata": {},
   "source": [
    "### Validacion cruzada"
   ]
  },
  {
   "cell_type": "code",
   "execution_count": 13,
   "metadata": {},
   "outputs": [
    {
     "name": "stderr",
     "output_type": "stream",
     "text": [
      "/tmp/ipykernel_128360/2845666160.py:35: RuntimeWarning: divide by zero encountered in log\n",
      "  class_conditional = np.sum(np.log(self._pdf(c, x)))\n",
      "/tmp/ipykernel_128360/2845666160.py:35: RuntimeWarning: divide by zero encountered in log\n",
      "  class_conditional = np.sum(np.log(self._pdf(c, x)))\n"
     ]
    },
    {
     "name": "stdout",
     "output_type": "stream",
     "text": [
      "Mean Accuracy 10-Fold CV: 0.9297\n"
     ]
    }
   ],
   "source": [
    "# Validación cruzada estratificada de 10 particiones\n",
    "k = 5  # Valor de k elegido anteriormente\n",
    "skf = StratifiedKFold(n_splits=k, shuffle=True, random_state=42)\n",
    "accuracies = []\n",
    "conf_mat_total = np.zeros((len(np.unique(y)), len(np.unique(y))), dtype=int)\n",
    "\n",
    "# Iterar sobre cada fold de la validación cruzada\n",
    "for fold, (train_index, test_index) in enumerate(skf.split(X, y)):\n",
    "    # Dividir los datos en entrenamiento y prueba para el fold actual\n",
    "    X_train, X_test = X[train_index], X[test_index]\n",
    "    y_train, y_test = y[train_index], y[test_index]\n",
    "\n",
    "    # Crear y entrenar el modelo\n",
    "    model = NaiveBayes()\n",
    "    model.fit(X_train, y_train)\n",
    "\n",
    "    # Predecir las etiquetas del conjunto de prueba\n",
    "    y_pred = model.predict(X_test)\n",
    "\n",
    "    # Calcular la precisión y acumularla\n",
    "    acc = accuracy_score(y_test, y_pred)\n",
    "    accuracies.append(acc)\n",
    "\n",
    "    # Generar la matriz de confusión y acumularla\n",
    "    conf_mat = confusion_matrix(y_test, y_pred)\n",
    "    conf_mat_total += conf_mat\n",
    "\n",
    "# Calcular la precisión promedio\n",
    "mean_accuracy = np.mean(accuracies)\n",
    "print(f\"Mean Accuracy 10-Fold CV: {mean_accuracy:.4f}\")\n",
    "\n",
    "# Graficar y guardar la matriz de confusión acumulada\n",
    "plt.figure(figsize=(8,6))\n",
    "sns.heatmap(conf_mat_total, annot=True, fmt='d', cmap='Blues',\n",
    "            xticklabels=target_names, yticklabels=target_names)\n",
    "plt.ylabel('Actual')\n",
    "plt.xlabel('Predicted')\n",
    "plt.title('Confusion Matrix - 10-Fold CV')\n",
    "plt.savefig('kfold_breast.png')\n",
    "plt.close()\n"
   ]
  },
  {
   "cell_type": "markdown",
   "metadata": {},
   "source": [
    "### Leave One Out"
   ]
  },
  {
   "cell_type": "code",
   "execution_count": 14,
   "metadata": {},
   "outputs": [
    {
     "name": "stderr",
     "output_type": "stream",
     "text": [
      "/tmp/ipykernel_128360/2845666160.py:35: RuntimeWarning: divide by zero encountered in log\n",
      "  class_conditional = np.sum(np.log(self._pdf(c, x)))\n",
      "/tmp/ipykernel_128360/2845666160.py:35: RuntimeWarning: divide by zero encountered in log\n",
      "  class_conditional = np.sum(np.log(self._pdf(c, x)))\n"
     ]
    },
    {
     "name": "stdout",
     "output_type": "stream",
     "text": [
      "Mean Accuracy Leave-One-Out: 0.9332\n"
     ]
    }
   ],
   "source": [
    "# Leave-One-Out Cross-Validation\n",
    "loo = LeaveOneOut()\n",
    "accuracies = []\n",
    "y_tests = []\n",
    "y_preds = []\n",
    "\n",
    "# Iterar sobre cada muestra dejándola como conjunto de prueba\n",
    "for train_index, test_index in loo.split(X):\n",
    "    # Dividir los datos en entrenamiento y prueba\n",
    "    X_train, X_test = X[train_index], X[test_index]\n",
    "    y_train, y_test = y[train_index], y[test_index]\n",
    "\n",
    "    # Crear y entrenar el modelo\n",
    "    model = NaiveBayes()\n",
    "    model.fit(X_train, y_train)\n",
    "\n",
    "    # Predecir la etiqueta de la muestra de prueba\n",
    "    y_pred = model.predict(X_test)\n",
    "\n",
    "    # Calcular la precisión y acumularla\n",
    "    acc = accuracy_score(y_test, y_pred)\n",
    "    accuracies.append(acc)\n",
    "\n",
    "    # Almacenar las etiquetas reales y predichas\n",
    "    y_tests.append(y_test[0])\n",
    "    y_preds.append(y_pred[0])\n",
    "\n",
    "# Calcular la precisión promedio\n",
    "mean_accuracy = np.mean(accuracies)\n",
    "print(f\"Mean Accuracy Leave-One-Out: {mean_accuracy:.4f}\")\n",
    "\n",
    "# Generar la matriz de confusión\n",
    "conf_mat = confusion_matrix(y_tests, y_preds)\n",
    "\n",
    "# Graficar y guardar la matriz de confusión\n",
    "plt.figure(figsize=(8,6))\n",
    "sns.heatmap(conf_mat, annot=True, fmt='d', cmap='Blues',\n",
    "            xticklabels=target_names, yticklabels=target_names)\n",
    "plt.ylabel('Actual')\n",
    "plt.xlabel('Predicted')\n",
    "plt.title('Confusion Matrix - Leave-One-Out CV')\n",
    "plt.savefig('loo_breast.png')\n",
    "plt.close()\n"
   ]
  },
  {
   "cell_type": "code",
   "execution_count": null,
   "metadata": {},
   "outputs": [],
   "source": []
  }
 ],
 "metadata": {
  "kernelspec": {
   "display_name": "ml",
   "language": "python",
   "name": "python3"
  },
  "language_info": {
   "codemirror_mode": {
    "name": "ipython",
    "version": 3
   },
   "file_extension": ".py",
   "mimetype": "text/x-python",
   "name": "python",
   "nbconvert_exporter": "python",
   "pygments_lexer": "ipython3",
   "version": "3.12.4"
  }
 },
 "nbformat": 4,
 "nbformat_minor": 2
}
