{
 "cells": [
  {
   "cell_type": "code",
   "execution_count": 1,
   "metadata": {},
   "outputs": [],
   "source": [
    "import sys\n",
    "sys.path.append(\"../src\")"
   ]
  },
  {
   "cell_type": "code",
   "execution_count": 2,
   "metadata": {},
   "outputs": [
    {
     "name": "stdout",
     "output_type": "stream",
     "text": [
      "Accuracy: 0.7500\n",
      "Error: 0.2500\n",
      "Precision: 0.7500\n",
      "Recall: 0.7500\n",
      "True Negative Rate: 0.7500\n",
      "False Positive Rate: 0.2500\n",
      "False Negative Rate: 0.2500\n",
      "F1-Score: 0.7500\n"
     ]
    }
   ],
   "source": [
    "from check import *\n",
    "\n",
    "# Ejemplo de datos\n",
    "y_true = [0, 1, 1, 0, 1, 0, 1, 0]\n",
    "y_pred = [0, 1, 0, 0, 1, 0, 1, 1]\n",
    "\n",
    "# Calcular Accuracy y Error\n",
    "accuracy = accuracy_score(y_true, y_pred)\n",
    "error = 1 - accuracy\n",
    "\n",
    "# Generar Matriz de Confusión\n",
    "conf_matrix = confusion_matrix_binary(y_true, y_pred)\n",
    "tp, tn, fp, fn = conf_matrix[\"TP\"], conf_matrix[\"TN\"], conf_matrix[\"FP\"], conf_matrix[\"FN\"]\n",
    "\n",
    "# Calcular Medidas\n",
    "precision_value = precision(tp, fp)\n",
    "recall_value = recall(tp, fn)\n",
    "tnr = true_negative_rate(tn, fp)\n",
    "fpr = false_positive_rate(fp, tn)\n",
    "fnr = false_negative_rate(fn, tp)\n",
    "f1 = f1_score(tp, fp, fn)\n",
    "\n",
    "# Imprimir resultados\n",
    "print(f\"Accuracy: {accuracy:.4f}\")\n",
    "print(f\"Error: {error:.4f}\")\n",
    "print(f\"Precision: {precision_value:.4f}\")\n",
    "print(f\"Recall: {recall_value:.4f}\")\n",
    "print(f\"True Negative Rate: {tnr:.4f}\")\n",
    "print(f\"False Positive Rate: {fpr:.4f}\")\n",
    "print(f\"False Negative Rate: {fnr:.4f}\")\n",
    "print(f\"F1-Score: {f1:.4f}\")"
   ]
  },
  {
   "cell_type": "code",
   "execution_count": 3,
   "metadata": {},
   "outputs": [
    {
     "name": "stdout",
     "output_type": "stream",
     "text": [
      "Accuracy (sklearn): 0.7500\n",
      "Confusion Matrix:\n",
      "[[3 1]\n",
      " [1 3]]\n",
      "Precision (sklearn): 0.7500\n",
      "Recall (sklearn): 0.7500\n",
      "F1-Score (sklearn): 0.7500\n"
     ]
    }
   ],
   "source": [
    "from sklearn.metrics import (\n",
    "    accuracy_score, confusion_matrix, precision_score, recall_score, f1_score\n",
    ")\n",
    "\n",
    "# Ejemplo de datos\n",
    "y_true = [0, 1, 1, 0, 1, 0, 1, 0]\n",
    "y_pred = [0, 1, 0, 0, 1, 0, 1, 1]\n",
    "\n",
    "# Accuracy y Matriz de Confusión\n",
    "accuracy = accuracy_score(y_true, y_pred)\n",
    "conf_matrix = confusion_matrix(y_true, y_pred)\n",
    "\n",
    "# Precision, Recall, F1-Score\n",
    "precision_value = precision_score(y_true, y_pred)\n",
    "recall_value = recall_score(y_true, y_pred)\n",
    "f1 = f1_score(y_true, y_pred)\n",
    "\n",
    "# Imprimir resultados\n",
    "print(f\"Accuracy (sklearn): {accuracy:.4f}\")\n",
    "print(\"Confusion Matrix:\")\n",
    "print(conf_matrix)\n",
    "print(f\"Precision (sklearn): {precision_value:.4f}\")\n",
    "print(f\"Recall (sklearn): {recall_value:.4f}\")\n",
    "print(f\"F1-Score (sklearn): {f1:.4f}\")"
   ]
  }
 ],
 "metadata": {
  "kernelspec": {
   "display_name": "ml",
   "language": "python",
   "name": "python3"
  },
  "language_info": {
   "codemirror_mode": {
    "name": "ipython",
    "version": 3
   },
   "file_extension": ".py",
   "mimetype": "text/x-python",
   "name": "python",
   "nbconvert_exporter": "python",
   "pygments_lexer": "ipython3",
   "version": "3.12.4"
  }
 },
 "nbformat": 4,
 "nbformat_minor": 2
}
