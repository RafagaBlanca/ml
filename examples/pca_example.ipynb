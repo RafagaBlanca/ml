{
  "cells": [
    {
      "cell_type": "markdown",
      "metadata": {
        "id": "aWcRYYkUj1Tk"
      },
      "source": [
        "# Example"
      ]
    },
    {
      "cell_type": "markdown",
      "metadata": {
        "id": "frX6ckx2rdSX"
      },
      "source": [
        "Cargar un dataset"
      ]
    },
    {
      "cell_type": "code",
      "execution_count": 1,
      "metadata": {
        "colab": {
          "base_uri": "https://localhost:8080/"
        },
        "id": "kYE-vDwfjBGI",
        "outputId": "792c046d-a56b-44f9-ab28-7cad0ecb7c91"
      },
      "outputs": [
        {
          "name": "stdout",
          "output_type": "stream",
          "text": [
            "Original Dataframe shape : (569, 31)\n",
            "Inputs Dataframe shape   : (569, 30)\n"
          ]
        }
      ],
      "source": [
        "import pandas as pd\n",
        "import numpy as np\n",
        "\n",
        "# Here we are using inbuilt dataset of scikit learn\n",
        "from sklearn.datasets import load_breast_cancer\n",
        "\n",
        "# instantiating\n",
        "cancer = load_breast_cancer(as_frame=True)\n",
        "# creating dataframe\n",
        "df = cancer.frame\n",
        "\n",
        "# checking shape\n",
        "print('Original Dataframe shape :',df.shape)\n",
        "\n",
        "# Input features\n",
        "X = df[cancer['feature_names']]\n",
        "print('Inputs Dataframe shape   :', X.shape)\n"
      ]
    },
    {
      "cell_type": "markdown",
      "metadata": {
        "id": "2_Hdu3UyHY0g"
      },
      "source": [
        "Normalizar el dataset"
      ]
    },
    {
      "cell_type": "code",
      "execution_count": null,
      "metadata": {
        "colab": {
          "base_uri": "https://localhost:8080/"
        },
        "id": "YVabvvhkoi7Q",
        "outputId": "a05eeef7-98a0-41c0-b35b-37603b11ed90"
      },
      "outputs": [],
      "source": [
        "# Mean\n",
        "X_mean = X.mean()\n",
        "\n",
        "print(X_mean)"
      ]
    },
    {
      "cell_type": "code",
      "execution_count": null,
      "metadata": {
        "colab": {
          "base_uri": "https://localhost:8080/"
        },
        "id": "D6WagTTDHrws",
        "outputId": "ec15a1c5-76b7-4378-e849-656401e9946c"
      },
      "outputs": [],
      "source": [
        "\n",
        "# Standard deviation\n",
        "X_std = X.std()\n",
        "print(X_std)"
      ]
    },
    {
      "cell_type": "code",
      "execution_count": null,
      "metadata": {
        "colab": {
          "base_uri": "https://localhost:8080/"
        },
        "id": "Z5A06sTYH13k",
        "outputId": "71018a72-31ec-45ba-b5e2-a8681464e214"
      },
      "outputs": [],
      "source": [
        "# Standardization\n",
        "Z = (X - X_mean) / X_std\n",
        "print(Z)"
      ]
    },
    {
      "cell_type": "markdown",
      "metadata": {
        "id": "RTa88jDsCF7v"
      },
      "source": [
        "Calcular covarianza"
      ]
    },
    {
      "cell_type": "code",
      "execution_count": null,
      "metadata": {
        "colab": {
          "base_uri": "https://localhost:8080/",
          "height": 568
        },
        "id": "dCvYZuoronM_",
        "outputId": "b978e467-690e-4b24-b814-21516b8dd6e7"
      },
      "outputs": [],
      "source": [
        "# covariance\n",
        "c = Z.cov()\n",
        "\n",
        "# Plot the covariance matrix\n",
        "import matplotlib.pyplot as plt\n",
        "import seaborn as sns\n",
        "sns.heatmap(c)\n",
        "plt.show()\n"
      ]
    },
    {
      "cell_type": "markdown",
      "metadata": {
        "id": "hgvLUW4ZHgCS"
      },
      "source": [
        "Calcular los eigenvalores y los eigenvectores.\n",
        "Estos se calculan por rasgos"
      ]
    },
    {
      "cell_type": "code",
      "execution_count": null,
      "metadata": {
        "colab": {
          "base_uri": "https://localhost:8080/"
        },
        "id": "cjmUSNsRotm5",
        "outputId": "ec2ed24b-8ff7-47fe-bfc7-1a8633af172b"
      },
      "outputs": [],
      "source": [
        "eigenvalues, eigenvectors = np.linalg.eig(c)\n",
        "print('Eigen values:\\n', eigenvalues)\n",
        "print('Eigen values Shape:', eigenvalues.shape)\n",
        "print('Eigen Vector Shape:', eigenvectors.shape)\n"
      ]
    },
    {
      "cell_type": "markdown",
      "metadata": {
        "id": "yTGyn4yIrxaA"
      },
      "source": [
        "Ordenar eigenvalores y eigenvectores"
      ]
    },
    {
      "cell_type": "code",
      "execution_count": 12,
      "metadata": {
        "id": "9vwAlP2io-XT"
      },
      "outputs": [],
      "source": [
        "# Index the eigenvalues in descending order\n",
        "idx = eigenvalues.argsort()[::-1]\n",
        "\n",
        "# Sort the eigenvalues in descending order\n",
        "eigenvalues = eigenvalues[idx]\n",
        "\n",
        "# sort the corresponding eigenvectors accordingly\n",
        "eigenvectors = eigenvectors[:,idx]\n"
      ]
    },
    {
      "cell_type": "markdown",
      "metadata": {
        "id": "oM7hD_6rr5OG"
      },
      "source": [
        "Suma acumulativa de eigenvalores, aportación de información"
      ]
    },
    {
      "cell_type": "code",
      "execution_count": null,
      "metadata": {
        "colab": {
          "base_uri": "https://localhost:8080/"
        },
        "id": "vYq4gLFLpIur",
        "outputId": "8a2d2330-3051-4c30-d0ad-27a6fe6d2464"
      },
      "outputs": [],
      "source": [
        "explained_var = np.cumsum(eigenvalues) / np.sum(eigenvalues)\n",
        "explained_var\n"
      ]
    },
    {
      "cell_type": "markdown",
      "metadata": {
        "id": "kODZXXCbsAFg"
      },
      "source": [
        "Nos quedamos con el número de componentes que garanticen el 50% de la info."
      ]
    },
    {
      "cell_type": "code",
      "execution_count": null,
      "metadata": {
        "colab": {
          "base_uri": "https://localhost:8080/"
        },
        "id": "BktijeuPpMy8",
        "outputId": "ff89881a-3f44-4be0-83a4-913190044796"
      },
      "outputs": [],
      "source": [
        "n_components = np.argmax(explained_var >= 0.50) + 1\n",
        "n_components\n"
      ]
    },
    {
      "cell_type": "markdown",
      "metadata": {
        "id": "Q021YUvBs-wD"
      },
      "source": [
        "Crear matriz de PCA a partir de las 2 primeras componentes de los eigenvectores orrdenados. Paso a dataframe."
      ]
    },
    {
      "cell_type": "code",
      "execution_count": null,
      "metadata": {
        "colab": {
          "base_uri": "https://localhost:8080/",
          "height": 642
        },
        "id": "W2o0hVzgpSRS",
        "outputId": "58fc5bf5-f667-45da-deb9-e461f708d52f"
      },
      "outputs": [],
      "source": [
        "# PCA component or unit matrix\n",
        "u = eigenvectors[:,:n_components]\n",
        "pca_component = pd.DataFrame(u,\n",
        "                             index = cancer['feature_names'],\n",
        "                             columns = ['PC1','PC2']\n",
        "                            )\n",
        "\n",
        "# plotting heatmap\n",
        "plt.figure(figsize =(5, 7))\n",
        "sns.heatmap(pca_component)\n",
        "plt.title('PCA Component')\n",
        "plt.show()\n"
      ]
    },
    {
      "cell_type": "markdown",
      "metadata": {
        "id": "du8WboZKtOtQ"
      },
      "source": [
        "Producto matricial para transformar Z, se reducen dimensiones a solo 2."
      ]
    },
    {
      "cell_type": "code",
      "execution_count": null,
      "metadata": {
        "colab": {
          "base_uri": "https://localhost:8080/"
        },
        "id": "9UHDDLAopbZy",
        "outputId": "ad02b69d-4ec4-4bdd-8da7-0e1e1bcfe912"
      },
      "outputs": [],
      "source": [
        "# Matrix multiplication or dot Product\n",
        "Z_pca = Z @ pca_component\n",
        "# Rename the columns name\n",
        "Z_pca.rename({'PC1': 'PCA1', 'PC2': 'PCA2'}, axis=1, inplace=True)\n",
        "# Print the  Pricipal Component values\n",
        "print(Z_pca)\n"
      ]
    },
    {
      "cell_type": "markdown",
      "metadata": {
        "id": "n5goIqWlpsfh"
      },
      "source": [
        "#Version sklearn"
      ]
    },
    {
      "cell_type": "markdown",
      "metadata": {
        "id": "fnuoLxlJtXwS"
      },
      "source": [
        "Simplificamos las cosas."
      ]
    },
    {
      "cell_type": "code",
      "execution_count": null,
      "metadata": {
        "colab": {
          "base_uri": "https://localhost:8080/"
        },
        "id": "vD8-9ZJTplTE",
        "outputId": "6f6c5a97-594f-4a4c-da0d-9c3280628d11"
      },
      "outputs": [],
      "source": [
        "# Importing PCA\n",
        "from sklearn.decomposition import PCA\n",
        "\n",
        "# Let's say, components = 2\n",
        "pca = PCA(n_components=2)\n",
        "pca.fit(Z)\n",
        "x_pca = pca.transform(Z)\n",
        "\n",
        "# Create the dataframe\n",
        "df_pca1 = pd.DataFrame(x_pca,\n",
        "                       columns=['PC{}'.\n",
        "                       format(i+1)\n",
        "                        for i in range(n_components)])\n",
        "print(df_pca1)\n"
      ]
    },
    {
      "cell_type": "markdown",
      "metadata": {
        "id": "OayPBghntcm5"
      },
      "source": [
        "Graficar salida"
      ]
    },
    {
      "cell_type": "code",
      "execution_count": null,
      "metadata": {
        "colab": {
          "base_uri": "https://localhost:8080/",
          "height": 562
        },
        "id": "5Ja7Z3Atp5dH",
        "outputId": "c69109e2-90c2-4d40-c7c0-9a63ed6e9c4e"
      },
      "outputs": [],
      "source": [
        "# giving a larger plot\n",
        "plt.figure(figsize=(8, 6))\n",
        "\n",
        "plt.scatter(x_pca[:, 0], x_pca[:, 1],\n",
        "            c=cancer['target'],\n",
        "            cmap='plasma')\n",
        "\n",
        "# labeling x and y axes\n",
        "plt.xlabel('First Principal Component')\n",
        "plt.ylabel('Second Principal Component')\n",
        "plt.show()\n"
      ]
    },
    {
      "cell_type": "code",
      "execution_count": null,
      "metadata": {
        "colab": {
          "base_uri": "https://localhost:8080/"
        },
        "id": "lBCs95vtp_yV",
        "outputId": "944b44d3-de9e-4ca5-f495-61ccadc07da5"
      },
      "outputs": [],
      "source": [
        "# components\n",
        "pca.components_\n"
      ]
    },
    {
      "cell_type": "code",
      "execution_count": 19,
      "metadata": {
        "id": "JS7TAAmZqLHv"
      },
      "outputs": [],
      "source": []
    }
  ],
  "metadata": {
    "colab": {
      "provenance": []
    },
    "kernelspec": {
      "display_name": "Python 3",
      "name": "python3"
    },
    "language_info": {
      "codemirror_mode": {
        "name": "ipython",
        "version": 3
      },
      "file_extension": ".py",
      "mimetype": "text/x-python",
      "name": "python",
      "nbconvert_exporter": "python",
      "pygments_lexer": "ipython3",
      "version": "3.12.4"
    }
  },
  "nbformat": 4,
  "nbformat_minor": 0
}
